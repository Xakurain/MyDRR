{
 "cells": [
  {
   "cell_type": "code",
   "execution_count": null,
   "outputs": [],
   "source": [
    "!python /gemini/code/split_data.py --input_folder /gemini/code/imagelabel_new1.json --output_folder /gemini/code/split --image_folder //gemini/data-1/new_DRRs"
   ],
   "metadata": {
    "collapsed": false
   }
  },
  {
   "cell_type": "code",
   "execution_count": null,
   "outputs": [],
   "source": [
    "!python /gemini/code/train_r.py --attributes_path /gemini/code/split/test.csv --data_root /gemini/code/split/ --save_root /gemini/code/pth --epochs 100 --batch_size 256"
   ],
   "metadata": {
    "collapsed": false
   }
  },
  {
   "cell_type": "code",
   "execution_count": null,
   "outputs": [],
   "source": [
    "!python /gemini/code/train_r.py --attributes_path /gemini/code/split/test.csv --data_root /gemini/code/split/ --save_root /gemini/code/pth --epochs 100 --batch_size 256"
   ],
   "metadata": {
    "collapsed": false
   }
  },
  {
   "cell_type": "code",
   "execution_count": null,
   "outputs": [],
   "source": [
    "import shutil\n",
    "shutil.copytree(r'/kaggle/input/mobilenet1', r'/kaggle/working/mobilenet')"
   ],
   "metadata": {
    "collapsed": false
   }
  },
  {
   "cell_type": "code",
   "execution_count": null,
   "outputs": [],
   "source": [
    "!python /kaggle/working/mobilenet/split_data.py"
   ],
   "metadata": {
    "collapsed": false
   }
  },
  {
   "cell_type": "code",
   "execution_count": null,
   "outputs": [],
   "source": [
    "!python /kaggle/working/mobilenet/train_ty.py --attributes_path /kaggle/working/mobilenet/split/test.csv --data_root /kaggle/working/mobilenet/split --save_root /kaggle/working --epochs 120 --batch_size 256"
   ],
   "metadata": {
    "collapsed": false
   }
  }
 ],
 "metadata": {
  "kernelspec": {
   "display_name": "Python 3",
   "language": "python",
   "name": "python3"
  },
  "language_info": {
   "codemirror_mode": {
    "name": "ipython",
    "version": 2
   },
   "file_extension": ".py",
   "mimetype": "text/x-python",
   "name": "python",
   "nbconvert_exporter": "python",
   "pygments_lexer": "ipython2",
   "version": "2.7.6"
  }
 },
 "nbformat": 4,
 "nbformat_minor": 0
}
